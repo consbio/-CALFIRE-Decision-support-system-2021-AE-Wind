{
 "cells": [
  {
   "cell_type": "markdown",
   "id": "74513442-4067-44c4-b1c8-7216c5670d98",
   "metadata": {
    "tags": []
   },
   "source": [
    "Cal-Adapt Analytics Engine Data Catalog Access and Data Download\n",
    "----------------------------------------------------------------"
   ]
  },
  {
   "cell_type": "markdown",
   "id": "abdc33c9-127b-4d9d-ac27-08e2fab953d6",
   "metadata": {},
   "source": [
    "All of the climate data within the Analytics Engine is stored in a publicly accessible AWS S3 bucket. If you are familiar with programming in Python you can easily access the data using the intake package to create an xarray dataset. This xarray dataset then can be exported to NetCDF and stored physically on your computer."
   ]
  },
  {
   "cell_type": "code",
   "execution_count": 1,
   "id": "c0ed041d-b80c-4622-8fe3-dbcd373bff57",
   "metadata": {},
   "outputs": [],
   "source": [
    "#If running this notebook in an environment outside of the Cal-Adapt Analytics Engine Jupyter Hub make sure to install intake-esm and s3fs packages\n",
    "import intake"
   ]
  },
  {
   "cell_type": "markdown",
   "id": "fc76f1f0-b98d-43f5-9409-d40dcb05f7d8",
   "metadata": {},
   "source": [
    "To connect to the data catalog that stores all the relevant metadata needed to access the data issue these commands:"
   ]
  },
  {
   "cell_type": "code",
   "execution_count": 2,
   "id": "87ef2aed-5484-491c-b92b-251958f1e047",
   "metadata": {},
   "outputs": [],
   "source": [
    "# Open catalog of available data sets using intake-esm package\n",
    "cat = intake.open_esm_datastore('https://cadcat.s3.amazonaws.com/cae-collection.json')"
   ]
  },
  {
   "cell_type": "code",
   "execution_count": 3,
   "id": "568e8271-502f-4e14-9a05-a2c33b486692",
   "metadata": {},
   "outputs": [
    {
     "data": {
      "text/html": [
       "<p><strong>cae catalog with 275 dataset(s) from 5929 asset(s)</strong>:</p> <div>\n",
       "<style scoped>\n",
       "    .dataframe tbody tr th:only-of-type {\n",
       "        vertical-align: middle;\n",
       "    }\n",
       "\n",
       "    .dataframe tbody tr th {\n",
       "        vertical-align: top;\n",
       "    }\n",
       "\n",
       "    .dataframe thead th {\n",
       "        text-align: right;\n",
       "    }\n",
       "</style>\n",
       "<table border=\"1\" class=\"dataframe\">\n",
       "  <thead>\n",
       "    <tr style=\"text-align: right;\">\n",
       "      <th></th>\n",
       "      <th>unique</th>\n",
       "    </tr>\n",
       "  </thead>\n",
       "  <tbody>\n",
       "    <tr>\n",
       "      <th>activity_id</th>\n",
       "      <td>2</td>\n",
       "    </tr>\n",
       "    <tr>\n",
       "      <th>institution_id</th>\n",
       "      <td>3</td>\n",
       "    </tr>\n",
       "    <tr>\n",
       "      <th>source_id</th>\n",
       "      <td>18</td>\n",
       "    </tr>\n",
       "    <tr>\n",
       "      <th>experiment_id</th>\n",
       "      <td>5</td>\n",
       "    </tr>\n",
       "    <tr>\n",
       "      <th>member_id</th>\n",
       "      <td>15</td>\n",
       "    </tr>\n",
       "    <tr>\n",
       "      <th>table_id</th>\n",
       "      <td>4</td>\n",
       "    </tr>\n",
       "    <tr>\n",
       "      <th>variable_id</th>\n",
       "      <td>56</td>\n",
       "    </tr>\n",
       "    <tr>\n",
       "      <th>grid_label</th>\n",
       "      <td>3</td>\n",
       "    </tr>\n",
       "    <tr>\n",
       "      <th>path</th>\n",
       "      <td>5929</td>\n",
       "    </tr>\n",
       "    <tr>\n",
       "      <th>derived_variable_id</th>\n",
       "      <td>0</td>\n",
       "    </tr>\n",
       "  </tbody>\n",
       "</table>\n",
       "</div>"
      ],
      "text/plain": [
       "<display.HTML object>"
      ]
     },
     "metadata": {},
     "output_type": "display_data"
    }
   ],
   "source": [
    "# inspecting the catalog object will show the number of datasets and unique attributes\n",
    "cat"
   ]
  },
  {
   "cell_type": "markdown",
   "id": "a2ac7e1a-a726-4152-8846-a7324dc424b2",
   "metadata": {},
   "source": [
    "This catalog object can be converted to a Pandas dataframe to easily see the contents:"
   ]
  },
  {
   "cell_type": "code",
   "execution_count": 4,
   "id": "d95a17d4",
   "metadata": {},
   "outputs": [
    {
     "data": {
      "text/html": [
       "<div>\n",
       "<style scoped>\n",
       "    .dataframe tbody tr th:only-of-type {\n",
       "        vertical-align: middle;\n",
       "    }\n",
       "\n",
       "    .dataframe tbody tr th {\n",
       "        vertical-align: top;\n",
       "    }\n",
       "\n",
       "    .dataframe thead th {\n",
       "        text-align: right;\n",
       "    }\n",
       "</style>\n",
       "<table border=\"1\" class=\"dataframe\">\n",
       "  <thead>\n",
       "    <tr style=\"text-align: right;\">\n",
       "      <th></th>\n",
       "      <th>activity_id</th>\n",
       "      <th>institution_id</th>\n",
       "      <th>source_id</th>\n",
       "      <th>experiment_id</th>\n",
       "      <th>member_id</th>\n",
       "      <th>table_id</th>\n",
       "      <th>variable_id</th>\n",
       "      <th>grid_label</th>\n",
       "      <th>path</th>\n",
       "    </tr>\n",
       "  </thead>\n",
       "  <tbody>\n",
       "    <tr>\n",
       "      <th>0</th>\n",
       "      <td>LOCA2</td>\n",
       "      <td>UCSD</td>\n",
       "      <td>ACCESS-CM2</td>\n",
       "      <td>historical</td>\n",
       "      <td>r1i1p1f1</td>\n",
       "      <td>day</td>\n",
       "      <td>hursmax</td>\n",
       "      <td>d03</td>\n",
       "      <td>s3://cadcat/loca2/ucsd/access-cm2/historical/r...</td>\n",
       "    </tr>\n",
       "    <tr>\n",
       "      <th>1</th>\n",
       "      <td>LOCA2</td>\n",
       "      <td>UCSD</td>\n",
       "      <td>ACCESS-CM2</td>\n",
       "      <td>historical</td>\n",
       "      <td>r1i1p1f1</td>\n",
       "      <td>day</td>\n",
       "      <td>hursmin</td>\n",
       "      <td>d03</td>\n",
       "      <td>s3://cadcat/loca2/ucsd/access-cm2/historical/r...</td>\n",
       "    </tr>\n",
       "    <tr>\n",
       "      <th>2</th>\n",
       "      <td>LOCA2</td>\n",
       "      <td>UCSD</td>\n",
       "      <td>ACCESS-CM2</td>\n",
       "      <td>historical</td>\n",
       "      <td>r1i1p1f1</td>\n",
       "      <td>day</td>\n",
       "      <td>huss</td>\n",
       "      <td>d03</td>\n",
       "      <td>s3://cadcat/loca2/ucsd/access-cm2/historical/r...</td>\n",
       "    </tr>\n",
       "    <tr>\n",
       "      <th>3</th>\n",
       "      <td>LOCA2</td>\n",
       "      <td>UCSD</td>\n",
       "      <td>ACCESS-CM2</td>\n",
       "      <td>historical</td>\n",
       "      <td>r1i1p1f1</td>\n",
       "      <td>day</td>\n",
       "      <td>pr</td>\n",
       "      <td>d03</td>\n",
       "      <td>s3://cadcat/loca2/ucsd/access-cm2/historical/r...</td>\n",
       "    </tr>\n",
       "    <tr>\n",
       "      <th>4</th>\n",
       "      <td>LOCA2</td>\n",
       "      <td>UCSD</td>\n",
       "      <td>ACCESS-CM2</td>\n",
       "      <td>historical</td>\n",
       "      <td>r1i1p1f1</td>\n",
       "      <td>day</td>\n",
       "      <td>rsds</td>\n",
       "      <td>d03</td>\n",
       "      <td>s3://cadcat/loca2/ucsd/access-cm2/historical/r...</td>\n",
       "    </tr>\n",
       "  </tbody>\n",
       "</table>\n",
       "</div>"
      ],
      "text/plain": [
       "  activity_id  ...                                               path\n",
       "0       LOCA2  ...  s3://cadcat/loca2/ucsd/access-cm2/historical/r...\n",
       "1       LOCA2  ...  s3://cadcat/loca2/ucsd/access-cm2/historical/r...\n",
       "2       LOCA2  ...  s3://cadcat/loca2/ucsd/access-cm2/historical/r...\n",
       "3       LOCA2  ...  s3://cadcat/loca2/ucsd/access-cm2/historical/r...\n",
       "4       LOCA2  ...  s3://cadcat/loca2/ucsd/access-cm2/historical/r...\n",
       "\n",
       "[5 rows x 9 columns]"
      ]
     },
     "execution_count": 4,
     "metadata": {},
     "output_type": "execute_result"
    }
   ],
   "source": [
    "# Access catalog as dataframe and inspect the first few rows\n",
    "cat_df = cat.df\n",
    "cat_df.head()"
   ]
  },
  {
   "cell_type": "markdown",
   "id": "f8fa0861-80b3-4d62-b66e-7ae52bd689e4",
   "metadata": {},
   "source": [
    "You can also list just the column names in the catalog by doing:"
   ]
  },
  {
   "cell_type": "code",
   "execution_count": 5,
   "id": "5afe8952",
   "metadata": {},
   "outputs": [
    {
     "name": "stdout",
     "output_type": "stream",
     "text": [
      "activity_id\n",
      "institution_id\n",
      "source_id\n",
      "experiment_id\n",
      "member_id\n",
      "table_id\n",
      "variable_id\n",
      "grid_label\n",
      "path\n"
     ]
    }
   ],
   "source": [
    "# Print column names\n",
    "for col in cat_df:\n",
    "    print(col)"
   ]
  },
  {
   "cell_type": "markdown",
   "id": "8af88025-6818-4d66-838f-92174bea698e",
   "metadata": {},
   "source": [
    "To see the unique values in each column run the following code:"
   ]
  },
  {
   "cell_type": "code",
   "execution_count": null,
   "id": "f16ad636",
   "metadata": {},
   "outputs": [],
   "source": [
    "# unique values in each column. Not all combinations of values will link to a dataset.\n",
    "for col in cat_df:\n",
    "    print(cat_df[col].unique())"
   ]
  },
  {
   "cell_type": "markdown",
   "id": "bdc579ea-bfae-447a-a976-1ad09a867da0",
   "metadata": {},
   "source": [
    "This will give you an idea of the available query parameters that can be entered to retrieve a particular set of data. Below is a sample query against the whole catalog to refine catalog entries to those of interest."
   ]
  },
  {
   "cell_type": "code",
   "execution_count": null,
   "id": "e5d23ffb",
   "metadata": {},
   "outputs": [],
   "source": [
    "# form query dictionary\n",
    "query = {\n",
    "    # Downscaling method\n",
    "    'activity_id': 'WRF',\n",
    "    # GCM name\n",
    "    #'source_id': 'ensmean',\n",
    "    # time period - historical or emissions scenario\n",
    "    #'experiment_id': ['historical', 'r1i1p1f1'],\n",
    "    # variable\n",
    "    #'variable_id': 'wind_speed_derived',\n",
    "    # monthly time resolution\n",
    "    'table_id': '1hr',\n",
    "    # grid resolution: d01 = 45km, d02 = 9km, d03 = 3km\n",
    "    #'grid_label': 'd03'\n",
    "}\n",
    "# subset catalog and get some metrics grouped by 'source_id'\n",
    "cat_subset = cat.search(require_all_on=['source_id'], **query)\n",
    "cat_subset"
   ]
  },
  {
   "cell_type": "markdown",
   "id": "e22c23b2-ecc0-494f-96a5-a824e85f26ff",
   "metadata": {},
   "source": [
    "The zarr datasets of interest can then be loaded into memory as xarray datasets using:"
   ]
  },
  {
   "cell_type": "code",
   "execution_count": null,
   "id": "02e397c9",
   "metadata": {},
   "outputs": [
    {
     "name": "stdout",
     "output_type": "stream",
     "text": [
      "\n",
      "--> The keys in the returned dictionary of datasets are constructed as follows:\n",
      "\t'activity_id.institution_id.source_id.experiment_id.table_id.grid_label'\n",
      " |----------------------------------------| 0.00% [0/37 00:00<?]\r"
     ]
    }
   ],
   "source": [
    "dsets = cat_subset.to_dataset_dict(xarray_open_kwargs={'consolidated': True},\n",
    "                                   storage_options={'anon': True})"
   ]
  },
  {
   "cell_type": "markdown",
   "id": "f6ceae18-b4fa-4c54-a008-df082d589640",
   "metadata": {},
   "source": [
    "To see the dataset keys, you can list the keys."
   ]
  },
  {
   "cell_type": "code",
   "execution_count": null,
   "id": "df7a7ff0",
   "metadata": {},
   "outputs": [],
   "source": [
    "# See object keys in dsets\n",
    "list(dsets)"
   ]
  },
  {
   "cell_type": "markdown",
   "id": "cb63aa86-d389-4b4f-aaf6-42267ff92037",
   "metadata": {},
   "source": [
    "To get down to one dataset of interest, use the key to query."
   ]
  },
  {
   "cell_type": "code",
   "execution_count": null,
   "id": "c5f67531-9de3-4031-8595-99e4596d1ecb",
   "metadata": {
    "scrolled": true
   },
   "outputs": [],
   "source": [
    "# Subset to historical time period and examine data object\n",
    "data = dsets['WRF.UCLA.CESM2.historical.mon.d03']\n",
    "data"
   ]
  },
  {
   "cell_type": "markdown",
   "id": "0a6b4dcc-184b-4f66-8094-32f366f064b9",
   "metadata": {},
   "source": [
    "Finally to save a dataset to NetCDF run the last cell below."
   ]
  },
  {
   "cell_type": "code",
   "execution_count": null,
   "id": "1089d8cf-1ccc-4d5c-a471-20b425ee2cea",
   "metadata": {},
   "outputs": [],
   "source": [
    "data.to_netcdf('WRF-UCLA-CESM2-historical-mon-d03.nc')"
   ]
  }
 ],
 "metadata": {
  "kernelspec": {
   "display_name": "ArcGISPro",
   "language": "Python",
   "name": "python3"
  },
  "language_info": {
   "file_extension": ".py",
   "name": "python",
   "version": "3"
  }
 },
 "nbformat": 4,
 "nbformat_minor": 5
}
